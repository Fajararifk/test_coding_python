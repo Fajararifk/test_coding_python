{
  "nbformat": 4,
  "nbformat_minor": 0,
  "metadata": {
    "colab": {
      "name": "Mini Test.ipynb",
      "provenance": [],
      "collapsed_sections": []
    },
    "kernelspec": {
      "name": "python3",
      "display_name": "Python 3"
    },
    "language_info": {
      "name": "python"
    }
  },
  "cells": [
    {
      "cell_type": "code",
      "execution_count": null,
      "metadata": {
        "colab": {
          "base_uri": "https://localhost:8080/"
        },
        "id": "UDF0EbN-GgJF",
        "outputId": "79f11fb8-ba37-4eb7-e99a-1f4aca88283c"
      },
      "outputs": [
        {
          "output_type": "stream",
          "name": "stdout",
          "text": [
            "1 , 2 , Apa , 4 , Bole , Apa , 7 , 8 , Apa , Bole , 11 , Apa , 13 , 14 , ApaBole , 16 , 17 , Apa , 19 , Bole , Apa , 22 , 23 , Apa , Bole , 26 , Apa , 28 , 29 , ApaBole , 31 , 32 , Apa , 34 , Bole , Apa , 37 , 38 , Apa , Bole , 41 , Apa , 43 , 44 , ApaBole , 46 , 47 , Apa , 49 , Bole , Apa , 52 , 53 , Apa , Bole , 56 , Apa , 58 , 59 , ApaBole , 61 , 62 , Apa , 64 , Bole , Apa , 67 , 68 , Apa , Bole , 71 , Apa , 73 , 74 , ApaBole , 76 , 77 , Apa , 79 , Bole , Apa , 82 , 83 , Apa , Bole , 86 , Apa , 88 , 89 , ApaBole , 91 , 92 , Apa , 94 , Bole , Apa , 97 , 98 , Apa , Bole , "
          ]
        }
      ],
      "source": [
        "i = 0\n",
        "\n",
        "for i in range(100):\n",
        "  i += 1\n",
        "  if((i%3==0) & (i%5==0)):\n",
        "    print('ApaBole ,', end=\" \")\n",
        "  elif (i%3==0):\n",
        "    print('Apa ,', end=\" \")\n",
        "  elif (i%5==0):\n",
        "    print('Bole ,', end=\" \")\n",
        "  else:\n",
        "    print(i, \",\", end=\" \")"
      ]
    },
    {
      "cell_type": "markdown",
      "source": [
        "Program kecil bernama \" ApaBole\"\n",
        "\n",
        "Tolong print angka dari 1 sampai 100. Tetapi, Ada peraturan khusus:\n",
        "\n",
        "1. Untuk setiap angka yang bisa dibagi dengan 3, jangan print angka nya, tapi print \"Apa\"\n",
        "2. Kalau bisa dibagi dengan 5, print \"Bole\",\n",
        "3. Kalau bisa dibagi oleh 3 dan 5, print \"ApaBole\"\n",
        "\n",
        "\n",
        "Fajar Arif Kurniawan"
      ],
      "metadata": {
        "id": "l9OIOtb7Pbbx"
      }
    },
    {
      "cell_type": "code",
      "source": [
        "import matplotlib.pyplot as plt\n",
        "import numpy as np\n",
        "\n",
        "x = np.array(['Apa','Bole','ApaBole'])\n",
        "y = np.array([3,50,90])\n",
        "plt.scatter(x,y)"
      ],
      "metadata": {
        "colab": {
          "base_uri": "https://localhost:8080/",
          "height": 283
        },
        "id": "KykUwawnTXFG",
        "outputId": "1526e79e-f8b9-4502-c3da-25b55e5a2c80"
      },
      "execution_count": null,
      "outputs": [
        {
          "output_type": "execute_result",
          "data": {
            "text/plain": [
              "<matplotlib.collections.PathCollection at 0x7f2306b340d0>"
            ]
          },
          "metadata": {},
          "execution_count": 2
        },
        {
          "output_type": "display_data",
          "data": {
            "text/plain": [
              "<Figure size 432x288 with 1 Axes>"
            ],
            "image/png": "[encoded data removed]"
          },
          "metadata": {
            "needs_background": "light"
          }
        }
      ]
    }
  ]
}